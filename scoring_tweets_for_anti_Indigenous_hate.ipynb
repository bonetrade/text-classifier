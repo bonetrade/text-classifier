{
  "nbformat": 4,
  "nbformat_minor": 0,
  "metadata": {
    "colab": {
      "name": "scoring tweets for anti-Indigenous hate.ipynb",
      "provenance": [],
      "collapsed_sections": [],
      "authorship_tag": "ABX9TyNZn/oqm93hQkbM/VDG7AR7",
      "include_colab_link": true
    },
    "kernelspec": {
      "name": "python3",
      "display_name": "Python 3"
    },
    "language_info": {
      "name": "python"
    }
  },
  "cells": [
    {
      "cell_type": "markdown",
      "metadata": {
        "id": "view-in-github",
        "colab_type": "text"
      },
      "source": [
        "<a href=\"https://colab.research.google.com/github/bonetrade/text-classifier/blob/main/scoring_tweets_for_anti_Indigenous_hate.ipynb\" target=\"_parent\"><img src=\"https://colab.research.google.com/assets/colab-badge.svg\" alt=\"Open In Colab\"/></a>"
      ]
    },
    {
      "cell_type": "code",
      "source": [
        "!pip install tensorflow_text"
      ],
      "metadata": {
        "id": "-_WAgg_UwfBv"
      },
      "execution_count": null,
      "outputs": []
    },
    {
      "cell_type": "code",
      "source": [
        "import tensorflow as tf\n",
        "import tensorflow_text as text\n",
        "import pandas as pd"
      ],
      "metadata": {
        "id": "SP0qpR4vwSJk"
      },
      "execution_count": null,
      "outputs": []
    },
    {
      "cell_type": "code",
      "execution_count": 7,
      "metadata": {
        "colab": {
          "base_uri": "https://localhost:8080/"
        },
        "id": "jgih8PBzhBBr",
        "outputId": "adffaa97-9824-4b7c-9804-8b6890f8c354"
      },
      "outputs": [
        {
          "output_type": "stream",
          "name": "stdout",
          "text": [
            "--2022-04-21 15:14:53--  https://drive.google.com/uc?export=download\n",
            "Resolving drive.google.com (drive.google.com)... 108.177.97.113, 108.177.97.102, 108.177.97.139, ...\n",
            "Connecting to drive.google.com (drive.google.com)|108.177.97.113|:443... connected.\n",
            "HTTP request sent, awaiting response... 400 Bad Request\n",
            "2022-04-21 15:14:54 ERROR 400: Bad Request.\n",
            "\n"
          ]
        }
      ],
      "source": [
        "!git clone https://github.com/bonetrade/text-classifier.git"
      ]
    },
    {
      "cell_type": "code",
      "source": [
        "%cd text-classifier\n",
        "!unzip -u hate-detection-model.zip"
      ],
      "metadata": {
        "id": "YmzCeB5zhsdT"
      },
      "execution_count": 3,
      "outputs": []
    },
    {
      "cell_type": "code",
      "source": [
        "tf.keras.models.load_model()"
      ],
      "metadata": {
        "id": "qp8FrzF_wL_N"
      },
      "execution_count": null,
      "outputs": []
    },
    {
      "cell_type": "code",
      "source": [
        "# upload csv file\n",
        "from google.colab import files\n",
        "\n",
        "uploaded = files.upload()\n",
        "\n",
        "for fn in uploaded.keys():\n",
        "  print('User uploaded file \"{name}\" with length {length} bytes'.format(\n",
        "      name=fn, length=len(uploaded[fn])))\n",
        "  df = pd.read_csv(fn)"
      ],
      "metadata": {
        "id": "AF8WYdYZwoze"
      },
      "execution_count": null,
      "outputs": []
    },
    {
      "cell_type": "markdown",
      "source": [
        "connect to google drive.\n",
        "load the model\n",
        "load the tweets\n",
        "iterate through the tweets by feeding them to the model\n",
        "print out the results"
      ],
      "metadata": {
        "id": "2OvhnIVzhGPZ"
      }
    },
    {
      "cell_type": "code",
      "source": [
        "# the column with the tweet text has to be named 'text'. If it isn't, change the word\n",
        "# 'text' below to whatever the column name is.\n",
        "\n",
        "model.predict(df['text'])"
      ],
      "metadata": {
        "id": "68gUmogPxJa4"
      },
      "execution_count": null,
      "outputs": []
    }
  ]
}