{
  "cells": [
    {
      "cell_type": "markdown",
      "metadata": {
        "id": "view-in-github",
        "colab_type": "text"
      },
      "source": [
        "<a href=\"https://colab.research.google.com/github/bonetrade/text-classifier/blob/main/text_classifier.ipynb\" target=\"_parent\"><img src=\"https://colab.research.google.com/assets/colab-badge.svg\" alt=\"Open In Colab\"/></a>"
      ]
    },
    {
      "cell_type": "markdown",
      "metadata": {
        "id": "bNMVhHNIvANO"
      },
      "source": [
        "following this: https://www.section.io/engineering-education/classification-model-using-bert-and-tensorflow/"
      ]
    },
    {
      "cell_type": "code",
      "execution_count": null,
      "metadata": {
        "id": "ECzlW5jhuzVN"
      },
      "outputs": [],
      "source": [
        "!pip install tensorflow_text"
      ]
    },
    {
      "cell_type": "code",
      "execution_count": 2,
      "metadata": {
        "id": "TMKdCgknupvP"
      },
      "outputs": [],
      "source": [
        "import tensorflow as tf\n",
        "import tensorflow_hub as hub\n",
        "import tensorflow_text as text\n",
        "import pandas as pd"
      ]
    },
    {
      "cell_type": "code",
      "execution_count": 41,
      "metadata": {
        "id": "M4wlOqUgvC12"
      },
      "outputs": [],
      "source": [
        "df = pd.read_csv(\"tweets-d+h-v-s.csv\")"
      ]
    },
    {
      "cell_type": "code",
      "execution_count": 42,
      "metadata": {
        "colab": {
          "base_uri": "https://localhost:8080/",
          "height": 206
        },
        "id": "VGg6CKTmvJAg",
        "outputId": "c1f32f71-3089-498d-8f6e-7c0e5f0637f2"
      },
      "outputs": [
        {
          "output_type": "execute_result",
          "data": {
            "text/plain": [
              "                                                text    category\n",
              "0  @mercymarss_ @InADash I thought Latino was a m...  derogatory\n",
              "1  Near the end of 2021 now, with all the informa...     support\n",
              "2  @MsRiceBite @GinaPhi94724925 So I’m guessing y...  derogatory\n",
              "3  @dancingchefabby @nashbash2 Hey! Here's some m...     support\n",
              "4  @paleomagick As far as I know it is a personal...     support"
            ],
            "text/html": [
              "\n",
              "  <div id=\"df-251a823b-1db5-4ec7-900f-3c3f0b72c079\">\n",
              "    <div class=\"colab-df-container\">\n",
              "      <div>\n",
              "<style scoped>\n",
              "    .dataframe tbody tr th:only-of-type {\n",
              "        vertical-align: middle;\n",
              "    }\n",
              "\n",
              "    .dataframe tbody tr th {\n",
              "        vertical-align: top;\n",
              "    }\n",
              "\n",
              "    .dataframe thead th {\n",
              "        text-align: right;\n",
              "    }\n",
              "</style>\n",
              "<table border=\"1\" class=\"dataframe\">\n",
              "  <thead>\n",
              "    <tr style=\"text-align: right;\">\n",
              "      <th></th>\n",
              "      <th>text</th>\n",
              "      <th>category</th>\n",
              "    </tr>\n",
              "  </thead>\n",
              "  <tbody>\n",
              "    <tr>\n",
              "      <th>0</th>\n",
              "      <td>@mercymarss_ @InADash I thought Latino was a m...</td>\n",
              "      <td>derogatory</td>\n",
              "    </tr>\n",
              "    <tr>\n",
              "      <th>1</th>\n",
              "      <td>Near the end of 2021 now, with all the informa...</td>\n",
              "      <td>support</td>\n",
              "    </tr>\n",
              "    <tr>\n",
              "      <th>2</th>\n",
              "      <td>@MsRiceBite @GinaPhi94724925 So I’m guessing y...</td>\n",
              "      <td>derogatory</td>\n",
              "    </tr>\n",
              "    <tr>\n",
              "      <th>3</th>\n",
              "      <td>@dancingchefabby @nashbash2 Hey! Here's some m...</td>\n",
              "      <td>support</td>\n",
              "    </tr>\n",
              "    <tr>\n",
              "      <th>4</th>\n",
              "      <td>@paleomagick As far as I know it is a personal...</td>\n",
              "      <td>support</td>\n",
              "    </tr>\n",
              "  </tbody>\n",
              "</table>\n",
              "</div>\n",
              "      <button class=\"colab-df-convert\" onclick=\"convertToInteractive('df-251a823b-1db5-4ec7-900f-3c3f0b72c079')\"\n",
              "              title=\"Convert this dataframe to an interactive table.\"\n",
              "              style=\"display:none;\">\n",
              "        \n",
              "  <svg xmlns=\"http://www.w3.org/2000/svg\" height=\"24px\"viewBox=\"0 0 24 24\"\n",
              "       width=\"24px\">\n",
              "    <path d=\"M0 0h24v24H0V0z\" fill=\"none\"/>\n",
              "    <path d=\"M18.56 5.44l.94 2.06.94-2.06 2.06-.94-2.06-.94-.94-2.06-.94 2.06-2.06.94zm-11 1L8.5 8.5l.94-2.06 2.06-.94-2.06-.94L8.5 2.5l-.94 2.06-2.06.94zm10 10l.94 2.06.94-2.06 2.06-.94-2.06-.94-.94-2.06-.94 2.06-2.06.94z\"/><path d=\"M17.41 7.96l-1.37-1.37c-.4-.4-.92-.59-1.43-.59-.52 0-1.04.2-1.43.59L10.3 9.45l-7.72 7.72c-.78.78-.78 2.05 0 2.83L4 21.41c.39.39.9.59 1.41.59.51 0 1.02-.2 1.41-.59l7.78-7.78 2.81-2.81c.8-.78.8-2.07 0-2.86zM5.41 20L4 18.59l7.72-7.72 1.47 1.35L5.41 20z\"/>\n",
              "  </svg>\n",
              "      </button>\n",
              "      \n",
              "  <style>\n",
              "    .colab-df-container {\n",
              "      display:flex;\n",
              "      flex-wrap:wrap;\n",
              "      gap: 12px;\n",
              "    }\n",
              "\n",
              "    .colab-df-convert {\n",
              "      background-color: #E8F0FE;\n",
              "      border: none;\n",
              "      border-radius: 50%;\n",
              "      cursor: pointer;\n",
              "      display: none;\n",
              "      fill: #1967D2;\n",
              "      height: 32px;\n",
              "      padding: 0 0 0 0;\n",
              "      width: 32px;\n",
              "    }\n",
              "\n",
              "    .colab-df-convert:hover {\n",
              "      background-color: #E2EBFA;\n",
              "      box-shadow: 0px 1px 2px rgba(60, 64, 67, 0.3), 0px 1px 3px 1px rgba(60, 64, 67, 0.15);\n",
              "      fill: #174EA6;\n",
              "    }\n",
              "\n",
              "    [theme=dark] .colab-df-convert {\n",
              "      background-color: #3B4455;\n",
              "      fill: #D2E3FC;\n",
              "    }\n",
              "\n",
              "    [theme=dark] .colab-df-convert:hover {\n",
              "      background-color: #434B5C;\n",
              "      box-shadow: 0px 1px 3px 1px rgba(0, 0, 0, 0.15);\n",
              "      filter: drop-shadow(0px 1px 2px rgba(0, 0, 0, 0.3));\n",
              "      fill: #FFFFFF;\n",
              "    }\n",
              "  </style>\n",
              "\n",
              "      <script>\n",
              "        const buttonEl =\n",
              "          document.querySelector('#df-251a823b-1db5-4ec7-900f-3c3f0b72c079 button.colab-df-convert');\n",
              "        buttonEl.style.display =\n",
              "          google.colab.kernel.accessAllowed ? 'block' : 'none';\n",
              "\n",
              "        async function convertToInteractive(key) {\n",
              "          const element = document.querySelector('#df-251a823b-1db5-4ec7-900f-3c3f0b72c079');\n",
              "          const dataTable =\n",
              "            await google.colab.kernel.invokeFunction('convertToInteractive',\n",
              "                                                     [key], {});\n",
              "          if (!dataTable) return;\n",
              "\n",
              "          const docLinkHtml = 'Like what you see? Visit the ' +\n",
              "            '<a target=\"_blank\" href=https://colab.research.google.com/notebooks/data_table.ipynb>data table notebook</a>'\n",
              "            + ' to learn more about interactive tables.';\n",
              "          element.innerHTML = '';\n",
              "          dataTable['output_type'] = 'display_data';\n",
              "          await google.colab.output.renderOutput(dataTable, element);\n",
              "          const docLink = document.createElement('div');\n",
              "          docLink.innerHTML = docLinkHtml;\n",
              "          element.appendChild(docLink);\n",
              "        }\n",
              "      </script>\n",
              "    </div>\n",
              "  </div>\n",
              "  "
            ]
          },
          "metadata": {},
          "execution_count": 42
        }
      ],
      "source": [
        "df.head(5)"
      ]
    },
    {
      "cell_type": "code",
      "execution_count": 43,
      "metadata": {
        "colab": {
          "base_uri": "https://localhost:8080/"
        },
        "id": "JEtUPGCswDm5",
        "outputId": "6fe7091c-8579-4bae-e376-3538c329f82c"
      },
      "outputs": [
        {
          "output_type": "execute_result",
          "data": {
            "text/plain": [
              "derogatory    519\n",
              "support       259\n",
              "Name: category, dtype: int64"
            ]
          },
          "metadata": {},
          "execution_count": 43
        }
      ],
      "source": [
        "df['category'].value_counts()"
      ]
    },
    {
      "cell_type": "code",
      "execution_count": 44,
      "metadata": {
        "id": "hpBl_V-byNbE"
      },
      "outputs": [],
      "source": [
        "df_derogatory = df[df['category']=='derogatory']\n",
        "df_support = df[df['category']=='support']"
      ]
    },
    {
      "cell_type": "code",
      "execution_count": 45,
      "metadata": {
        "id": "RMdOaMj2ynKe",
        "colab": {
          "base_uri": "https://localhost:8080/"
        },
        "outputId": "cc9f957e-11e3-4c83-b0a0-b2d7ea80bc0f"
      },
      "outputs": [
        {
          "output_type": "execute_result",
          "data": {
            "text/plain": [
              "(259, 2)"
            ]
          },
          "metadata": {},
          "execution_count": 45
        }
      ],
      "source": [
        "df_derogatory_downsampled = df_derogatory.sample(df_support.shape[0])\n",
        "\n",
        "df_derogatory_downsampled.shape"
      ]
    },
    {
      "cell_type": "code",
      "execution_count": 47,
      "metadata": {
        "id": "xeXn8jpWy3b4"
      },
      "outputs": [],
      "source": [
        "df_balanced = pd.concat([df_derogatory_downsampled, df_support])"
      ]
    },
    {
      "cell_type": "code",
      "source": [
        "#del df"
      ],
      "metadata": {
        "id": "rMSAsR7wTBDY"
      },
      "execution_count": 40,
      "outputs": []
    },
    {
      "cell_type": "code",
      "execution_count": 48,
      "metadata": {
        "colab": {
          "base_uri": "https://localhost:8080/",
          "height": 423
        },
        "id": "InoPA5mg2y7v",
        "outputId": "e9be73f2-d3bc-443d-cbaa-02c335b0cfad"
      },
      "outputs": [
        {
          "output_type": "execute_result",
          "data": {
            "text/plain": [
              "                                                   text    category\n",
              "509   @votesamuelwill1 @Aenigma777 Any team using In...  derogatory\n",
              "563   @MythinformedMKE I don’t understand why these ...  derogatory\n",
              "1113  Gimme Honda, Gimme Sony. So cheap and real pho...  derogatory\n",
              "424   Gimme Honda, Gimme Sony. So cheap and real pho...  derogatory\n",
              "804   New program for Quebec's Indian and Eskimo pop...  derogatory\n",
              "...                                                 ...         ...\n",
              "1126  @_you_WHAT @Superdillin Cool I was called a dy...     support\n",
              "1127  @ABDLgirl English &amp; pig Latin fluently, a ...     support\n",
              "1130  @jjo431 @iheartmindy From someone who lives in...     support\n",
              "1132  @cotto1 @FBI Orange skin really You are racist...     support\n",
              "1136  @Kfabuloussness @ThePolSponge @datkatahdinkind...     support\n",
              "\n",
              "[518 rows x 2 columns]"
            ],
            "text/html": [
              "\n",
              "  <div id=\"df-6bdb2263-ce5c-4257-840f-c9b9eec850d2\">\n",
              "    <div class=\"colab-df-container\">\n",
              "      <div>\n",
              "<style scoped>\n",
              "    .dataframe tbody tr th:only-of-type {\n",
              "        vertical-align: middle;\n",
              "    }\n",
              "\n",
              "    .dataframe tbody tr th {\n",
              "        vertical-align: top;\n",
              "    }\n",
              "\n",
              "    .dataframe thead th {\n",
              "        text-align: right;\n",
              "    }\n",
              "</style>\n",
              "<table border=\"1\" class=\"dataframe\">\n",
              "  <thead>\n",
              "    <tr style=\"text-align: right;\">\n",
              "      <th></th>\n",
              "      <th>text</th>\n",
              "      <th>category</th>\n",
              "    </tr>\n",
              "  </thead>\n",
              "  <tbody>\n",
              "    <tr>\n",
              "      <th>509</th>\n",
              "      <td>@votesamuelwill1 @Aenigma777 Any team using In...</td>\n",
              "      <td>derogatory</td>\n",
              "    </tr>\n",
              "    <tr>\n",
              "      <th>563</th>\n",
              "      <td>@MythinformedMKE I don’t understand why these ...</td>\n",
              "      <td>derogatory</td>\n",
              "    </tr>\n",
              "    <tr>\n",
              "      <th>1113</th>\n",
              "      <td>Gimme Honda, Gimme Sony. So cheap and real pho...</td>\n",
              "      <td>derogatory</td>\n",
              "    </tr>\n",
              "    <tr>\n",
              "      <th>424</th>\n",
              "      <td>Gimme Honda, Gimme Sony. So cheap and real pho...</td>\n",
              "      <td>derogatory</td>\n",
              "    </tr>\n",
              "    <tr>\n",
              "      <th>804</th>\n",
              "      <td>New program for Quebec's Indian and Eskimo pop...</td>\n",
              "      <td>derogatory</td>\n",
              "    </tr>\n",
              "    <tr>\n",
              "      <th>...</th>\n",
              "      <td>...</td>\n",
              "      <td>...</td>\n",
              "    </tr>\n",
              "    <tr>\n",
              "      <th>1126</th>\n",
              "      <td>@_you_WHAT @Superdillin Cool I was called a dy...</td>\n",
              "      <td>support</td>\n",
              "    </tr>\n",
              "    <tr>\n",
              "      <th>1127</th>\n",
              "      <td>@ABDLgirl English &amp;amp; pig Latin fluently, a ...</td>\n",
              "      <td>support</td>\n",
              "    </tr>\n",
              "    <tr>\n",
              "      <th>1130</th>\n",
              "      <td>@jjo431 @iheartmindy From someone who lives in...</td>\n",
              "      <td>support</td>\n",
              "    </tr>\n",
              "    <tr>\n",
              "      <th>1132</th>\n",
              "      <td>@cotto1 @FBI Orange skin really You are racist...</td>\n",
              "      <td>support</td>\n",
              "    </tr>\n",
              "    <tr>\n",
              "      <th>1136</th>\n",
              "      <td>@Kfabuloussness @ThePolSponge @datkatahdinkind...</td>\n",
              "      <td>support</td>\n",
              "    </tr>\n",
              "  </tbody>\n",
              "</table>\n",
              "<p>518 rows × 2 columns</p>\n",
              "</div>\n",
              "      <button class=\"colab-df-convert\" onclick=\"convertToInteractive('df-6bdb2263-ce5c-4257-840f-c9b9eec850d2')\"\n",
              "              title=\"Convert this dataframe to an interactive table.\"\n",
              "              style=\"display:none;\">\n",
              "        \n",
              "  <svg xmlns=\"http://www.w3.org/2000/svg\" height=\"24px\"viewBox=\"0 0 24 24\"\n",
              "       width=\"24px\">\n",
              "    <path d=\"M0 0h24v24H0V0z\" fill=\"none\"/>\n",
              "    <path d=\"M18.56 5.44l.94 2.06.94-2.06 2.06-.94-2.06-.94-.94-2.06-.94 2.06-2.06.94zm-11 1L8.5 8.5l.94-2.06 2.06-.94-2.06-.94L8.5 2.5l-.94 2.06-2.06.94zm10 10l.94 2.06.94-2.06 2.06-.94-2.06-.94-.94-2.06-.94 2.06-2.06.94z\"/><path d=\"M17.41 7.96l-1.37-1.37c-.4-.4-.92-.59-1.43-.59-.52 0-1.04.2-1.43.59L10.3 9.45l-7.72 7.72c-.78.78-.78 2.05 0 2.83L4 21.41c.39.39.9.59 1.41.59.51 0 1.02-.2 1.41-.59l7.78-7.78 2.81-2.81c.8-.78.8-2.07 0-2.86zM5.41 20L4 18.59l7.72-7.72 1.47 1.35L5.41 20z\"/>\n",
              "  </svg>\n",
              "      </button>\n",
              "      \n",
              "  <style>\n",
              "    .colab-df-container {\n",
              "      display:flex;\n",
              "      flex-wrap:wrap;\n",
              "      gap: 12px;\n",
              "    }\n",
              "\n",
              "    .colab-df-convert {\n",
              "      background-color: #E8F0FE;\n",
              "      border: none;\n",
              "      border-radius: 50%;\n",
              "      cursor: pointer;\n",
              "      display: none;\n",
              "      fill: #1967D2;\n",
              "      height: 32px;\n",
              "      padding: 0 0 0 0;\n",
              "      width: 32px;\n",
              "    }\n",
              "\n",
              "    .colab-df-convert:hover {\n",
              "      background-color: #E2EBFA;\n",
              "      box-shadow: 0px 1px 2px rgba(60, 64, 67, 0.3), 0px 1px 3px 1px rgba(60, 64, 67, 0.15);\n",
              "      fill: #174EA6;\n",
              "    }\n",
              "\n",
              "    [theme=dark] .colab-df-convert {\n",
              "      background-color: #3B4455;\n",
              "      fill: #D2E3FC;\n",
              "    }\n",
              "\n",
              "    [theme=dark] .colab-df-convert:hover {\n",
              "      background-color: #434B5C;\n",
              "      box-shadow: 0px 1px 3px 1px rgba(0, 0, 0, 0.15);\n",
              "      filter: drop-shadow(0px 1px 2px rgba(0, 0, 0, 0.3));\n",
              "      fill: #FFFFFF;\n",
              "    }\n",
              "  </style>\n",
              "\n",
              "      <script>\n",
              "        const buttonEl =\n",
              "          document.querySelector('#df-6bdb2263-ce5c-4257-840f-c9b9eec850d2 button.colab-df-convert');\n",
              "        buttonEl.style.display =\n",
              "          google.colab.kernel.accessAllowed ? 'block' : 'none';\n",
              "\n",
              "        async function convertToInteractive(key) {\n",
              "          const element = document.querySelector('#df-6bdb2263-ce5c-4257-840f-c9b9eec850d2');\n",
              "          const dataTable =\n",
              "            await google.colab.kernel.invokeFunction('convertToInteractive',\n",
              "                                                     [key], {});\n",
              "          if (!dataTable) return;\n",
              "\n",
              "          const docLinkHtml = 'Like what you see? Visit the ' +\n",
              "            '<a target=\"_blank\" href=https://colab.research.google.com/notebooks/data_table.ipynb>data table notebook</a>'\n",
              "            + ' to learn more about interactive tables.';\n",
              "          element.innerHTML = '';\n",
              "          dataTable['output_type'] = 'display_data';\n",
              "          await google.colab.output.renderOutput(dataTable, element);\n",
              "          const docLink = document.createElement('div');\n",
              "          docLink.innerHTML = docLinkHtml;\n",
              "          element.appendChild(docLink);\n",
              "        }\n",
              "      </script>\n",
              "    </div>\n",
              "  </div>\n",
              "  "
            ]
          },
          "metadata": {},
          "execution_count": 48
        }
      ],
      "source": [
        "df_balanced"
      ]
    },
    {
      "cell_type": "code",
      "execution_count": 52,
      "metadata": {
        "colab": {
          "base_uri": "https://localhost:8080/"
        },
        "id": "nYWJcVLxzAw6",
        "outputId": "262236d6-a5e5-4d6b-d2d2-864efe9f8a42"
      },
      "outputs": [
        {
          "output_type": "execute_result",
          "data": {
            "text/plain": [
              "derogatory    259\n",
              "support       259\n",
              "Name: category, dtype: int64"
            ]
          },
          "metadata": {},
          "execution_count": 52
        }
      ],
      "source": [
        "df_balanced['category'].value_counts()"
      ]
    },
    {
      "cell_type": "code",
      "execution_count": 53,
      "metadata": {
        "id": "kPS84bSTzNG4",
        "colab": {
          "base_uri": "https://localhost:8080/",
          "height": 206
        },
        "outputId": "e573831a-92a9-42db-ed72-36ee1050a8bf"
      },
      "outputs": [
        {
          "output_type": "execute_result",
          "data": {
            "text/plain": [
              "                                                   text    category  \\\n",
              "480   Indian is an incorrect term. Redskin is a slur...     support   \n",
              "441   @WokeTemple \"Asians\" is pretty vast denominati...     support   \n",
              "686   This sunset labradorite is from Canada &amp; i...  derogatory   \n",
              "1073  @GayleKing cont. are guilty of racism. I was c...     support   \n",
              "969   @jaketapper I teach my k-8 students all the ti...     support   \n",
              "\n",
              "      derogatory  \n",
              "480            0  \n",
              "441            0  \n",
              "686            1  \n",
              "1073           0  \n",
              "969            0  "
            ],
            "text/html": [
              "\n",
              "  <div id=\"df-8c5e9281-898c-4773-b91d-a2ac97193214\">\n",
              "    <div class=\"colab-df-container\">\n",
              "      <div>\n",
              "<style scoped>\n",
              "    .dataframe tbody tr th:only-of-type {\n",
              "        vertical-align: middle;\n",
              "    }\n",
              "\n",
              "    .dataframe tbody tr th {\n",
              "        vertical-align: top;\n",
              "    }\n",
              "\n",
              "    .dataframe thead th {\n",
              "        text-align: right;\n",
              "    }\n",
              "</style>\n",
              "<table border=\"1\" class=\"dataframe\">\n",
              "  <thead>\n",
              "    <tr style=\"text-align: right;\">\n",
              "      <th></th>\n",
              "      <th>text</th>\n",
              "      <th>category</th>\n",
              "      <th>derogatory</th>\n",
              "    </tr>\n",
              "  </thead>\n",
              "  <tbody>\n",
              "    <tr>\n",
              "      <th>480</th>\n",
              "      <td>Indian is an incorrect term. Redskin is a slur...</td>\n",
              "      <td>support</td>\n",
              "      <td>0</td>\n",
              "    </tr>\n",
              "    <tr>\n",
              "      <th>441</th>\n",
              "      <td>@WokeTemple \"Asians\" is pretty vast denominati...</td>\n",
              "      <td>support</td>\n",
              "      <td>0</td>\n",
              "    </tr>\n",
              "    <tr>\n",
              "      <th>686</th>\n",
              "      <td>This sunset labradorite is from Canada &amp;amp; i...</td>\n",
              "      <td>derogatory</td>\n",
              "      <td>1</td>\n",
              "    </tr>\n",
              "    <tr>\n",
              "      <th>1073</th>\n",
              "      <td>@GayleKing cont. are guilty of racism. I was c...</td>\n",
              "      <td>support</td>\n",
              "      <td>0</td>\n",
              "    </tr>\n",
              "    <tr>\n",
              "      <th>969</th>\n",
              "      <td>@jaketapper I teach my k-8 students all the ti...</td>\n",
              "      <td>support</td>\n",
              "      <td>0</td>\n",
              "    </tr>\n",
              "  </tbody>\n",
              "</table>\n",
              "</div>\n",
              "      <button class=\"colab-df-convert\" onclick=\"convertToInteractive('df-8c5e9281-898c-4773-b91d-a2ac97193214')\"\n",
              "              title=\"Convert this dataframe to an interactive table.\"\n",
              "              style=\"display:none;\">\n",
              "        \n",
              "  <svg xmlns=\"http://www.w3.org/2000/svg\" height=\"24px\"viewBox=\"0 0 24 24\"\n",
              "       width=\"24px\">\n",
              "    <path d=\"M0 0h24v24H0V0z\" fill=\"none\"/>\n",
              "    <path d=\"M18.56 5.44l.94 2.06.94-2.06 2.06-.94-2.06-.94-.94-2.06-.94 2.06-2.06.94zm-11 1L8.5 8.5l.94-2.06 2.06-.94-2.06-.94L8.5 2.5l-.94 2.06-2.06.94zm10 10l.94 2.06.94-2.06 2.06-.94-2.06-.94-.94-2.06-.94 2.06-2.06.94z\"/><path d=\"M17.41 7.96l-1.37-1.37c-.4-.4-.92-.59-1.43-.59-.52 0-1.04.2-1.43.59L10.3 9.45l-7.72 7.72c-.78.78-.78 2.05 0 2.83L4 21.41c.39.39.9.59 1.41.59.51 0 1.02-.2 1.41-.59l7.78-7.78 2.81-2.81c.8-.78.8-2.07 0-2.86zM5.41 20L4 18.59l7.72-7.72 1.47 1.35L5.41 20z\"/>\n",
              "  </svg>\n",
              "      </button>\n",
              "      \n",
              "  <style>\n",
              "    .colab-df-container {\n",
              "      display:flex;\n",
              "      flex-wrap:wrap;\n",
              "      gap: 12px;\n",
              "    }\n",
              "\n",
              "    .colab-df-convert {\n",
              "      background-color: #E8F0FE;\n",
              "      border: none;\n",
              "      border-radius: 50%;\n",
              "      cursor: pointer;\n",
              "      display: none;\n",
              "      fill: #1967D2;\n",
              "      height: 32px;\n",
              "      padding: 0 0 0 0;\n",
              "      width: 32px;\n",
              "    }\n",
              "\n",
              "    .colab-df-convert:hover {\n",
              "      background-color: #E2EBFA;\n",
              "      box-shadow: 0px 1px 2px rgba(60, 64, 67, 0.3), 0px 1px 3px 1px rgba(60, 64, 67, 0.15);\n",
              "      fill: #174EA6;\n",
              "    }\n",
              "\n",
              "    [theme=dark] .colab-df-convert {\n",
              "      background-color: #3B4455;\n",
              "      fill: #D2E3FC;\n",
              "    }\n",
              "\n",
              "    [theme=dark] .colab-df-convert:hover {\n",
              "      background-color: #434B5C;\n",
              "      box-shadow: 0px 1px 3px 1px rgba(0, 0, 0, 0.15);\n",
              "      filter: drop-shadow(0px 1px 2px rgba(0, 0, 0, 0.3));\n",
              "      fill: #FFFFFF;\n",
              "    }\n",
              "  </style>\n",
              "\n",
              "      <script>\n",
              "        const buttonEl =\n",
              "          document.querySelector('#df-8c5e9281-898c-4773-b91d-a2ac97193214 button.colab-df-convert');\n",
              "        buttonEl.style.display =\n",
              "          google.colab.kernel.accessAllowed ? 'block' : 'none';\n",
              "\n",
              "        async function convertToInteractive(key) {\n",
              "          const element = document.querySelector('#df-8c5e9281-898c-4773-b91d-a2ac97193214');\n",
              "          const dataTable =\n",
              "            await google.colab.kernel.invokeFunction('convertToInteractive',\n",
              "                                                     [key], {});\n",
              "          if (!dataTable) return;\n",
              "\n",
              "          const docLinkHtml = 'Like what you see? Visit the ' +\n",
              "            '<a target=\"_blank\" href=https://colab.research.google.com/notebooks/data_table.ipynb>data table notebook</a>'\n",
              "            + ' to learn more about interactive tables.';\n",
              "          element.innerHTML = '';\n",
              "          dataTable['output_type'] = 'display_data';\n",
              "          await google.colab.output.renderOutput(dataTable, element);\n",
              "          const docLink = document.createElement('div');\n",
              "          docLink.innerHTML = docLinkHtml;\n",
              "          element.appendChild(docLink);\n",
              "        }\n",
              "      </script>\n",
              "    </div>\n",
              "  </div>\n",
              "  "
            ]
          },
          "metadata": {},
          "execution_count": 53
        }
      ],
      "source": [
        "df_balanced['derogatory']=df_balanced['category'].apply(lambda x: 1 if x=='derogatory' else 0)\n",
        "df_balanced.sample(5)"
      ]
    },
    {
      "cell_type": "code",
      "execution_count": 54,
      "metadata": {
        "id": "jxo3CNskzhgj"
      },
      "outputs": [],
      "source": [
        "from sklearn.model_selection import train_test_split"
      ]
    },
    {
      "cell_type": "code",
      "execution_count": 56,
      "metadata": {
        "id": "oAW7ZEIczZ5E"
      },
      "outputs": [],
      "source": [
        "X_train, X_test, y_train, y_test = train_test_split(df_balanced['text'],df_balanced['derogatory'], stratify=df_balanced['derogatory'])"
      ]
    },
    {
      "cell_type": "code",
      "execution_count": 57,
      "metadata": {
        "id": "rx3c1O8fzu01"
      },
      "outputs": [],
      "source": [
        "bert_preprocess = hub.KerasLayer(\"https://tfhub.dev/tensorflow/bert_en_uncased_preprocess/3\")\n",
        "bert_encoder = hub.KerasLayer(\"https://tfhub.dev/tensorflow/bert_en_uncased_L-12_H-768_A-12/4\")\n"
      ]
    },
    {
      "cell_type": "code",
      "execution_count": 58,
      "metadata": {
        "id": "8OHg7CjIzzES"
      },
      "outputs": [],
      "source": [
        "text_input = tf.keras.layers.Input(shape=(), dtype=tf.string, name='text')\n",
        "preprocessed_text = bert_preprocess(text_input)\n",
        "outputs = bert_encoder(preprocessed_text)"
      ]
    },
    {
      "cell_type": "code",
      "execution_count": 59,
      "metadata": {
        "id": "fBXh9QsM0Nli"
      },
      "outputs": [],
      "source": [
        "l = tf.keras.layers.Dropout(0.1, name=\"dropout\")(outputs['pooled_output'])\n",
        "l = tf.keras.layers.Dense(1, activation='sigmoid', name=\"output\")(l)\n"
      ]
    },
    {
      "cell_type": "code",
      "execution_count": 60,
      "metadata": {
        "id": "8i4daxPl0Qlf"
      },
      "outputs": [],
      "source": [
        "model = tf.keras.Model(inputs=[text_input], outputs = [l])"
      ]
    },
    {
      "cell_type": "code",
      "execution_count": 61,
      "metadata": {
        "colab": {
          "base_uri": "https://localhost:8080/"
        },
        "id": "XhElYG7s0TGa",
        "outputId": "3894c784-c9ea-4677-cdce-41c4655814b1"
      },
      "outputs": [
        {
          "output_type": "stream",
          "name": "stdout",
          "text": [
            "Model: \"model\"\n",
            "__________________________________________________________________________________________________\n",
            " Layer (type)                   Output Shape         Param #     Connected to                     \n",
            "==================================================================================================\n",
            " text (InputLayer)              [(None,)]            0           []                               \n",
            "                                                                                                  \n",
            " keras_layer (KerasLayer)       {'input_type_ids':   0           ['text[0][0]']                   \n",
            "                                (None, 128),                                                      \n",
            "                                 'input_mask': (Non                                               \n",
            "                                e, 128),                                                          \n",
            "                                 'input_word_ids':                                                \n",
            "                                (None, 128)}                                                      \n",
            "                                                                                                  \n",
            " keras_layer_1 (KerasLayer)     {'sequence_output':  109482241   ['keras_layer[0][0]',            \n",
            "                                 (None, 128, 768),                'keras_layer[0][1]',            \n",
            "                                 'encoder_outputs':               'keras_layer[0][2]']            \n",
            "                                 [(None, 128, 768),                                               \n",
            "                                 (None, 128, 768),                                                \n",
            "                                 (None, 128, 768),                                                \n",
            "                                 (None, 128, 768),                                                \n",
            "                                 (None, 128, 768),                                                \n",
            "                                 (None, 128, 768),                                                \n",
            "                                 (None, 128, 768),                                                \n",
            "                                 (None, 128, 768),                                                \n",
            "                                 (None, 128, 768),                                                \n",
            "                                 (None, 128, 768),                                                \n",
            "                                 (None, 128, 768),                                                \n",
            "                                 (None, 128, 768)],                                               \n",
            "                                 'default': (None,                                                \n",
            "                                768),                                                             \n",
            "                                 'pooled_output': (                                               \n",
            "                                None, 768)}                                                       \n",
            "                                                                                                  \n",
            " dropout (Dropout)              (None, 768)          0           ['keras_layer_1[0][13]']         \n",
            "                                                                                                  \n",
            " output (Dense)                 (None, 1)            769         ['dropout[0][0]']                \n",
            "                                                                                                  \n",
            "==================================================================================================\n",
            "Total params: 109,483,010\n",
            "Trainable params: 769\n",
            "Non-trainable params: 109,482,241\n",
            "__________________________________________________________________________________________________\n"
          ]
        }
      ],
      "source": [
        "model.summary()"
      ]
    },
    {
      "cell_type": "code",
      "execution_count": 62,
      "metadata": {
        "id": "zso-G3B_0W5d"
      },
      "outputs": [],
      "source": [
        "METRICS = [\n",
        "      tf.keras.metrics.BinaryAccuracy(name='accuracy'),\n",
        "      tf.keras.metrics.Precision(name='precision'),\n",
        "      tf.keras.metrics.Recall(name='recall')\n",
        "]\n",
        "\n",
        "model.compile(optimizer='adam',\n",
        " loss='binary_crossentropy',\n",
        " metrics=METRICS)"
      ]
    },
    {
      "cell_type": "code",
      "execution_count": 77,
      "metadata": {
        "colab": {
          "base_uri": "https://localhost:8080/"
        },
        "id": "JOtzPEhp0ZMu",
        "outputId": "20455bfc-fb71-4f96-da7b-b1e9bd4ae364"
      },
      "outputs": [
        {
          "output_type": "stream",
          "name": "stdout",
          "text": [
            "Epoch 1/100\n",
            "13/13 [==============================] - 9s 654ms/step - loss: 0.6236 - accuracy: 0.6649 - precision: 0.6975 - recall: 0.5825\n",
            "Epoch 2/100\n",
            "13/13 [==============================] - 8s 643ms/step - loss: 0.5983 - accuracy: 0.6753 - precision: 0.6560 - recall: 0.7371\n",
            "Epoch 3/100\n",
            "13/13 [==============================] - 8s 647ms/step - loss: 0.6088 - accuracy: 0.6598 - precision: 0.7385 - recall: 0.4948\n",
            "Epoch 4/100\n",
            "13/13 [==============================] - 8s 645ms/step - loss: 0.6060 - accuracy: 0.6753 - precision: 0.6504 - recall: 0.7577\n",
            "Epoch 5/100\n",
            "13/13 [==============================] - 8s 635ms/step - loss: 0.6080 - accuracy: 0.6649 - precision: 0.7133 - recall: 0.5515\n",
            "Epoch 6/100\n",
            "13/13 [==============================] - 8s 634ms/step - loss: 0.6106 - accuracy: 0.6649 - precision: 0.6495 - recall: 0.7165\n",
            "Epoch 7/100\n",
            "13/13 [==============================] - 8s 636ms/step - loss: 0.6164 - accuracy: 0.6830 - precision: 0.7261 - recall: 0.5876\n",
            "Epoch 8/100\n",
            "13/13 [==============================] - 8s 632ms/step - loss: 0.5979 - accuracy: 0.6624 - precision: 0.6479 - recall: 0.7113\n",
            "Epoch 9/100\n",
            "13/13 [==============================] - 8s 634ms/step - loss: 0.6081 - accuracy: 0.6624 - precision: 0.6438 - recall: 0.7268\n",
            "Epoch 10/100\n",
            "13/13 [==============================] - 8s 639ms/step - loss: 0.6038 - accuracy: 0.6521 - precision: 0.6277 - recall: 0.7474\n",
            "Epoch 11/100\n",
            "13/13 [==============================] - 8s 641ms/step - loss: 0.6200 - accuracy: 0.6701 - precision: 0.7200 - recall: 0.5567\n",
            "Epoch 12/100\n",
            "13/13 [==============================] - 8s 634ms/step - loss: 0.6076 - accuracy: 0.6495 - precision: 0.6151 - recall: 0.7990\n",
            "Epoch 13/100\n",
            "13/13 [==============================] - 8s 634ms/step - loss: 0.5978 - accuracy: 0.6959 - precision: 0.7468 - recall: 0.5928\n",
            "Epoch 14/100\n",
            "13/13 [==============================] - 8s 639ms/step - loss: 0.5931 - accuracy: 0.7036 - precision: 0.7283 - recall: 0.6495\n",
            "Epoch 15/100\n",
            "13/13 [==============================] - 8s 635ms/step - loss: 0.5896 - accuracy: 0.7165 - precision: 0.6981 - recall: 0.7629\n",
            "Epoch 16/100\n",
            "13/13 [==============================] - 8s 636ms/step - loss: 0.5988 - accuracy: 0.6675 - precision: 0.6498 - recall: 0.7268\n",
            "Epoch 17/100\n",
            "13/13 [==============================] - 8s 637ms/step - loss: 0.5969 - accuracy: 0.6830 - precision: 0.7383 - recall: 0.5670\n",
            "Epoch 18/100\n",
            "13/13 [==============================] - 8s 635ms/step - loss: 0.5927 - accuracy: 0.6778 - precision: 0.6751 - recall: 0.6856\n",
            "Epoch 19/100\n",
            "13/13 [==============================] - 8s 632ms/step - loss: 0.5873 - accuracy: 0.7036 - precision: 0.6837 - recall: 0.7577\n",
            "Epoch 20/100\n",
            "13/13 [==============================] - 8s 635ms/step - loss: 0.5957 - accuracy: 0.6856 - precision: 0.7338 - recall: 0.5825\n",
            "Epoch 21/100\n",
            "13/13 [==============================] - 8s 634ms/step - loss: 0.6067 - accuracy: 0.6649 - precision: 0.6495 - recall: 0.7165\n",
            "Epoch 22/100\n",
            "13/13 [==============================] - 8s 638ms/step - loss: 0.6112 - accuracy: 0.6701 - precision: 0.6320 - recall: 0.8144\n",
            "Epoch 23/100\n",
            "13/13 [==============================] - 8s 633ms/step - loss: 0.6008 - accuracy: 0.6804 - precision: 0.7917 - recall: 0.4897\n",
            "Epoch 24/100\n",
            "13/13 [==============================] - 8s 632ms/step - loss: 0.6023 - accuracy: 0.6572 - precision: 0.6187 - recall: 0.8196\n",
            "Epoch 25/100\n",
            "13/13 [==============================] - 8s 635ms/step - loss: 0.6168 - accuracy: 0.6753 - precision: 0.8091 - recall: 0.4588\n",
            "Epoch 26/100\n",
            "13/13 [==============================] - 8s 635ms/step - loss: 0.6021 - accuracy: 0.6804 - precision: 0.6882 - recall: 0.6598\n",
            "Epoch 27/100\n",
            "13/13 [==============================] - 8s 634ms/step - loss: 0.5961 - accuracy: 0.6959 - precision: 0.7111 - recall: 0.6598\n",
            "Epoch 28/100\n",
            "13/13 [==============================] - 8s 630ms/step - loss: 0.5794 - accuracy: 0.6753 - precision: 0.6889 - recall: 0.6392\n",
            "Epoch 29/100\n",
            "13/13 [==============================] - 8s 635ms/step - loss: 0.5762 - accuracy: 0.7036 - precision: 0.6890 - recall: 0.7423\n",
            "Epoch 30/100\n",
            "13/13 [==============================] - 8s 631ms/step - loss: 0.5806 - accuracy: 0.6675 - precision: 0.6444 - recall: 0.7474\n",
            "Epoch 31/100\n",
            "13/13 [==============================] - 8s 636ms/step - loss: 0.5939 - accuracy: 0.6804 - precision: 0.7692 - recall: 0.5155\n",
            "Epoch 32/100\n",
            "13/13 [==============================] - 8s 635ms/step - loss: 0.5919 - accuracy: 0.6649 - precision: 0.6290 - recall: 0.8041\n",
            "Epoch 33/100\n",
            "13/13 [==============================] - 8s 636ms/step - loss: 0.5988 - accuracy: 0.6933 - precision: 0.7246 - recall: 0.6237\n",
            "Epoch 34/100\n",
            "13/13 [==============================] - 8s 634ms/step - loss: 0.6060 - accuracy: 0.6340 - precision: 0.6161 - recall: 0.7113\n",
            "Epoch 35/100\n",
            "13/13 [==============================] - 8s 632ms/step - loss: 0.5957 - accuracy: 0.6778 - precision: 0.7197 - recall: 0.5825\n",
            "Epoch 36/100\n",
            "13/13 [==============================] - 8s 635ms/step - loss: 0.5849 - accuracy: 0.7191 - precision: 0.6889 - recall: 0.7990\n",
            "Epoch 37/100\n",
            "13/13 [==============================] - 8s 636ms/step - loss: 0.5964 - accuracy: 0.6624 - precision: 0.6864 - recall: 0.5979\n",
            "Epoch 38/100\n",
            "13/13 [==============================] - 8s 638ms/step - loss: 0.5745 - accuracy: 0.7345 - precision: 0.7725 - recall: 0.6649\n",
            "Epoch 39/100\n",
            "13/13 [==============================] - 8s 637ms/step - loss: 0.6003 - accuracy: 0.6778 - precision: 0.7285 - recall: 0.5670\n",
            "Epoch 40/100\n",
            "13/13 [==============================] - 8s 635ms/step - loss: 0.5918 - accuracy: 0.6624 - precision: 0.6329 - recall: 0.7732\n",
            "Epoch 41/100\n",
            "13/13 [==============================] - 8s 635ms/step - loss: 0.6027 - accuracy: 0.6701 - precision: 0.6618 - recall: 0.6959\n",
            "Epoch 42/100\n",
            "13/13 [==============================] - 8s 634ms/step - loss: 0.5779 - accuracy: 0.7010 - precision: 0.6950 - recall: 0.7165\n",
            "Epoch 43/100\n",
            "13/13 [==============================] - 8s 636ms/step - loss: 0.5760 - accuracy: 0.7062 - precision: 0.7198 - recall: 0.6753\n",
            "Epoch 44/100\n",
            "13/13 [==============================] - 8s 633ms/step - loss: 0.5797 - accuracy: 0.7191 - precision: 0.6995 - recall: 0.7680\n",
            "Epoch 45/100\n",
            "13/13 [==============================] - 8s 633ms/step - loss: 0.5783 - accuracy: 0.6959 - precision: 0.7111 - recall: 0.6598\n",
            "Epoch 46/100\n",
            "13/13 [==============================] - 8s 634ms/step - loss: 0.5843 - accuracy: 0.6701 - precision: 0.6341 - recall: 0.8041\n",
            "Epoch 47/100\n",
            "13/13 [==============================] - 8s 638ms/step - loss: 0.5864 - accuracy: 0.6907 - precision: 0.7126 - recall: 0.6392\n",
            "Epoch 48/100\n",
            "13/13 [==============================] - 8s 636ms/step - loss: 0.5836 - accuracy: 0.6985 - precision: 0.6571 - recall: 0.8299\n",
            "Epoch 49/100\n",
            "13/13 [==============================] - 8s 634ms/step - loss: 0.6191 - accuracy: 0.6675 - precision: 0.7600 - recall: 0.4897\n",
            "Epoch 50/100\n",
            "13/13 [==============================] - 8s 633ms/step - loss: 0.5888 - accuracy: 0.6804 - precision: 0.7035 - recall: 0.6237\n",
            "Epoch 51/100\n",
            "13/13 [==============================] - 8s 633ms/step - loss: 0.5707 - accuracy: 0.6856 - precision: 0.6525 - recall: 0.7938\n",
            "Epoch 52/100\n",
            "13/13 [==============================] - 8s 633ms/step - loss: 0.5704 - accuracy: 0.7139 - precision: 0.7643 - recall: 0.6186\n",
            "Epoch 53/100\n",
            "13/13 [==============================] - 8s 632ms/step - loss: 0.5686 - accuracy: 0.6830 - precision: 0.6651 - recall: 0.7371\n",
            "Epoch 54/100\n",
            "13/13 [==============================] - 8s 633ms/step - loss: 0.5687 - accuracy: 0.6881 - precision: 0.6995 - recall: 0.6598\n",
            "Epoch 55/100\n",
            "13/13 [==============================] - 8s 637ms/step - loss: 0.5644 - accuracy: 0.7113 - precision: 0.7135 - recall: 0.7062\n",
            "Epoch 56/100\n",
            "13/13 [==============================] - 8s 631ms/step - loss: 0.5802 - accuracy: 0.7036 - precision: 0.6820 - recall: 0.7629\n",
            "Epoch 57/100\n",
            "13/13 [==============================] - 8s 633ms/step - loss: 0.5712 - accuracy: 0.6830 - precision: 0.6732 - recall: 0.7113\n",
            "Epoch 58/100\n",
            "13/13 [==============================] - 8s 631ms/step - loss: 0.5833 - accuracy: 0.7062 - precision: 0.6818 - recall: 0.7732\n",
            "Epoch 59/100\n",
            "13/13 [==============================] - 8s 632ms/step - loss: 0.5839 - accuracy: 0.6830 - precision: 0.6839 - recall: 0.6804\n",
            "Epoch 60/100\n",
            "13/13 [==============================] - 8s 629ms/step - loss: 0.5790 - accuracy: 0.6830 - precision: 0.6715 - recall: 0.7165\n",
            "Epoch 61/100\n",
            "13/13 [==============================] - 8s 633ms/step - loss: 0.5655 - accuracy: 0.7062 - precision: 0.6786 - recall: 0.7835\n",
            "Epoch 62/100\n",
            "13/13 [==============================] - 8s 634ms/step - loss: 0.5921 - accuracy: 0.6804 - precision: 0.7303 - recall: 0.5722\n",
            "Epoch 63/100\n",
            "13/13 [==============================] - 8s 637ms/step - loss: 0.5783 - accuracy: 0.7010 - precision: 0.7053 - recall: 0.6907\n",
            "Epoch 64/100\n",
            "13/13 [==============================] - 8s 636ms/step - loss: 0.5800 - accuracy: 0.6804 - precision: 0.6577 - recall: 0.7526\n",
            "Epoch 65/100\n",
            "13/13 [==============================] - 8s 634ms/step - loss: 0.5844 - accuracy: 0.7139 - precision: 0.7943 - recall: 0.5773\n",
            "Epoch 66/100\n",
            "13/13 [==============================] - 8s 632ms/step - loss: 0.5782 - accuracy: 0.6701 - precision: 0.6486 - recall: 0.7423\n",
            "Epoch 67/100\n",
            "13/13 [==============================] - 8s 637ms/step - loss: 0.5538 - accuracy: 0.7474 - precision: 0.8117 - recall: 0.6443\n",
            "Epoch 68/100\n",
            "13/13 [==============================] - 8s 636ms/step - loss: 0.5827 - accuracy: 0.6753 - precision: 0.6405 - recall: 0.7990\n",
            "Epoch 69/100\n",
            "13/13 [==============================] - 8s 634ms/step - loss: 0.5816 - accuracy: 0.6933 - precision: 0.7698 - recall: 0.5515\n",
            "Epoch 70/100\n",
            "13/13 [==============================] - 8s 632ms/step - loss: 0.5961 - accuracy: 0.6701 - precision: 0.6435 - recall: 0.7629\n",
            "Epoch 71/100\n",
            "13/13 [==============================] - 8s 631ms/step - loss: 0.5621 - accuracy: 0.7216 - precision: 0.7622 - recall: 0.6443\n",
            "Epoch 72/100\n",
            "13/13 [==============================] - 8s 636ms/step - loss: 0.5651 - accuracy: 0.6881 - precision: 0.6995 - recall: 0.6598\n",
            "Epoch 73/100\n",
            "13/13 [==============================] - 8s 630ms/step - loss: 0.5697 - accuracy: 0.7139 - precision: 0.7371 - recall: 0.6649\n",
            "Epoch 74/100\n",
            "13/13 [==============================] - 8s 630ms/step - loss: 0.5726 - accuracy: 0.6778 - precision: 0.7018 - recall: 0.6186\n",
            "Epoch 75/100\n",
            "13/13 [==============================] - 8s 633ms/step - loss: 0.5710 - accuracy: 0.6933 - precision: 0.6712 - recall: 0.7577\n",
            "Epoch 76/100\n",
            "13/13 [==============================] - 8s 636ms/step - loss: 0.5596 - accuracy: 0.6959 - precision: 0.6900 - recall: 0.7113\n",
            "Epoch 77/100\n",
            "13/13 [==============================] - 8s 637ms/step - loss: 0.5661 - accuracy: 0.6959 - precision: 0.7346 - recall: 0.6134\n",
            "Epoch 78/100\n",
            "13/13 [==============================] - 8s 634ms/step - loss: 0.5859 - accuracy: 0.6675 - precision: 0.6265 - recall: 0.8299\n",
            "Epoch 79/100\n",
            "13/13 [==============================] - 8s 639ms/step - loss: 0.6136 - accuracy: 0.6753 - precision: 0.8269 - recall: 0.4433\n",
            "Epoch 80/100\n",
            "13/13 [==============================] - 8s 635ms/step - loss: 0.5669 - accuracy: 0.6753 - precision: 0.6298 - recall: 0.8505\n",
            "Epoch 81/100\n",
            "13/13 [==============================] - 8s 639ms/step - loss: 0.5931 - accuracy: 0.6649 - precision: 0.7667 - recall: 0.4742\n",
            "Epoch 82/100\n",
            "13/13 [==============================] - 8s 636ms/step - loss: 0.5790 - accuracy: 0.6804 - precision: 0.6535 - recall: 0.7680\n",
            "Epoch 83/100\n",
            "13/13 [==============================] - 8s 638ms/step - loss: 0.5650 - accuracy: 0.6985 - precision: 0.6774 - recall: 0.7577\n",
            "Epoch 84/100\n",
            "13/13 [==============================] - 8s 634ms/step - loss: 0.5646 - accuracy: 0.6933 - precision: 0.7517 - recall: 0.5773\n",
            "Epoch 85/100\n",
            "13/13 [==============================] - 8s 637ms/step - loss: 0.5618 - accuracy: 0.7113 - precision: 0.7303 - recall: 0.6701\n",
            "Epoch 86/100\n",
            "13/13 [==============================] - 8s 632ms/step - loss: 0.5697 - accuracy: 0.6985 - precision: 0.6842 - recall: 0.7371\n",
            "Epoch 87/100\n",
            "13/13 [==============================] - 8s 640ms/step - loss: 0.5703 - accuracy: 0.7088 - precision: 0.7143 - recall: 0.6959\n",
            "Epoch 88/100\n",
            "13/13 [==============================] - 8s 636ms/step - loss: 0.5675 - accuracy: 0.7139 - precision: 0.7485 - recall: 0.6443\n",
            "Epoch 89/100\n",
            "13/13 [==============================] - 8s 641ms/step - loss: 0.5538 - accuracy: 0.7165 - precision: 0.6963 - recall: 0.7680\n",
            "Epoch 90/100\n",
            "13/13 [==============================] - 8s 634ms/step - loss: 0.5750 - accuracy: 0.7268 - precision: 0.7785 - recall: 0.6340\n",
            "Epoch 91/100\n",
            "13/13 [==============================] - 8s 637ms/step - loss: 0.5498 - accuracy: 0.6985 - precision: 0.6611 - recall: 0.8144\n",
            "Epoch 92/100\n",
            "13/13 [==============================] - 8s 632ms/step - loss: 0.5875 - accuracy: 0.6778 - precision: 0.7760 - recall: 0.5000\n",
            "Epoch 93/100\n",
            "13/13 [==============================] - 8s 638ms/step - loss: 0.5544 - accuracy: 0.7036 - precision: 0.6771 - recall: 0.7784\n",
            "Epoch 94/100\n",
            "13/13 [==============================] - 8s 634ms/step - loss: 0.5683 - accuracy: 0.6933 - precision: 0.7095 - recall: 0.6546\n",
            "Epoch 95/100\n",
            "13/13 [==============================] - 8s 638ms/step - loss: 0.5457 - accuracy: 0.7113 - precision: 0.7113 - recall: 0.7113\n",
            "Epoch 96/100\n",
            "13/13 [==============================] - 8s 634ms/step - loss: 0.5541 - accuracy: 0.7036 - precision: 0.7423 - recall: 0.6237\n",
            "Epoch 97/100\n",
            "13/13 [==============================] - 8s 639ms/step - loss: 0.5541 - accuracy: 0.7191 - precision: 0.7202 - recall: 0.7165\n",
            "Epoch 98/100\n",
            "13/13 [==============================] - 8s 634ms/step - loss: 0.5549 - accuracy: 0.7165 - precision: 0.6927 - recall: 0.7784\n",
            "Epoch 99/100\n",
            "13/13 [==============================] - 8s 635ms/step - loss: 0.5553 - accuracy: 0.7165 - precision: 0.6892 - recall: 0.7887\n",
            "Epoch 100/100\n",
            "13/13 [==============================] - 8s 631ms/step - loss: 0.5557 - accuracy: 0.7139 - precision: 0.7546 - recall: 0.6340\n"
          ]
        },
        {
          "output_type": "execute_result",
          "data": {
            "text/plain": [
              "<keras.callbacks.History at 0x7fa83ff1ac50>"
            ]
          },
          "metadata": {},
          "execution_count": 77
        }
      ],
      "source": [
        "model.fit(X_train, y_train, epochs=100)"
      ]
    },
    {
      "cell_type": "code",
      "execution_count": 78,
      "metadata": {
        "id": "33i1cogU1O0v"
      },
      "outputs": [],
      "source": [
        "y_predicted = model.predict(X_test)\n",
        "y_predicted = y_predicted.flatten()"
      ]
    },
    {
      "cell_type": "code",
      "execution_count": 79,
      "metadata": {
        "colab": {
          "base_uri": "https://localhost:8080/"
        },
        "id": "4e7TVsJE1nku",
        "outputId": "f0236077-2841-4a0f-d448-40aef15b34c7"
      },
      "outputs": [
        {
          "output_type": "execute_result",
          "data": {
            "text/plain": [
              "array([1, 0, 1, 1, 0, 0, 1, 1, 1, 1, 1, 1, 1, 0, 1, 1, 0, 1, 0, 0, 1, 1,\n",
              "       1, 1, 1, 0, 0, 1, 1, 1, 1, 1, 1, 1, 0, 1, 1, 1, 1, 1, 1, 1, 0, 0,\n",
              "       1, 0, 0, 0, 1, 1, 0, 0, 1, 0, 1, 1, 0, 0, 1, 0, 1, 0, 0, 1, 0, 0,\n",
              "       1, 1, 1, 1, 1, 0, 0, 0, 1, 1, 1, 1, 0, 0, 0, 1, 1, 0, 1, 1, 1, 1,\n",
              "       1, 0, 0, 1, 0, 1, 1, 0, 1, 1, 1, 0, 0, 1, 0, 1, 0, 1, 1, 0, 1, 1,\n",
              "       0, 0, 1, 1, 1, 1, 1, 1, 1, 0, 0, 0, 1, 0, 1, 1, 0, 1, 0, 1])"
            ]
          },
          "metadata": {},
          "execution_count": 79
        }
      ],
      "source": [
        "import numpy as np\n",
        "\n",
        "y_predicted = np.where(y_predicted > 0.5, 1, 0)\n",
        "y_predicted"
      ]
    },
    {
      "cell_type": "code",
      "execution_count": 108,
      "metadata": {
        "id": "ttE_aRBj1scM"
      },
      "outputs": [],
      "source": [
        "# actual tweets\n",
        "sample_dataset = [\n",
        " \"We're barely halfway through the day and an Indian man flirting with me said thinking about being fucked by a HALF BREED like you is hot\",\n",
        " \"Antique Vintage Alaskan Eskimo Indian Wall Piece w/ Fur\",\n",
        " \"Manitoba History: The Red River Jig Around the Convention of Indian Title: The Metis and Half-Breed Dos a Dos\",\n",
        " 'My 7th grade history teacher would call me ‘redskin girl’ every time she saw me because she wanted everyone to know I was indian',\n",
        " \"Actually let me retort if being American is all about Lying, Stealing, Destroying other peoples property then I don’t want to be your classification of an American I’d rather be called Native, Redskin, Indian or whatever else it is you Libtards call us without an audience\",\n",
        " \"I just want to make sure I understand - Inuit *used to be* included in the Indian act but are no longer, because the term Eskimo was excluded and the proper term Inuit was not subsequently included?\",  \n",
        " \"I understand Cree FN have been excluded from important rights as well.\",\n",
        " \"I am viewing This from a different perspective ,This is the most iconic scene in that movie, will fill the viewer with lot of emotion and pride for ancient Indian heritage. the creator of  this video ajmal sabu by name itself a half breed will always wish to malign this scene.\",\n",
        " \"It's a word you should never say to a native Indian but it's socially acceptable in a normal conversation (redskin).But the word has evolved into something with more than one connotation where context matters.\",\n",
        " \"eskimo eater of fish\"\n",
        "\n",
        "]"
      ]
    },
    {
      "cell_type": "markdown",
      "metadata": {
        "id": "n6x2kDPq8NqO"
      },
      "source": [
        "Closer the score gets to 1, the more likely that the tweet expresses 'hate'"
      ]
    },
    {
      "cell_type": "code",
      "execution_count": 112,
      "metadata": {
        "colab": {
          "base_uri": "https://localhost:8080/"
        },
        "id": "Av0KpkPW2QKF",
        "outputId": "d6e5bc36-65fe-4bef-80df-cabf6388babb"
      },
      "outputs": [
        {
          "output_type": "execute_result",
          "data": {
            "text/plain": [
              "array([[0.33278838],\n",
              "       [0.91821074],\n",
              "       [0.62164605],\n",
              "       [0.402493  ],\n",
              "       [0.24394764],\n",
              "       [0.4155691 ],\n",
              "       [0.25358894],\n",
              "       [0.49854347],\n",
              "       [0.25175098],\n",
              "       [0.9112105 ]], dtype=float32)"
            ]
          },
          "metadata": {},
          "execution_count": 112
        }
      ],
      "source": [
        "model.predict(sample_dataset)"
      ]
    },
    {
      "cell_type": "code",
      "source": [
        "tf.keras.models.save_model(model, \"model\")"
      ],
      "metadata": {
        "colab": {
          "base_uri": "https://localhost:8080/"
        },
        "id": "XiYCwHsAcaPV",
        "outputId": "28ec8fda-d726-43c3-bfa7-5e52d4bacc1c"
      },
      "execution_count": 107,
      "outputs": [
        {
          "output_type": "stream",
          "name": "stderr",
          "text": [
            "WARNING:absl:Found untraced functions such as restored_function_body, restored_function_body, restored_function_body, restored_function_body, restored_function_body while saving (showing 5 of 366). These functions will not be directly callable after loading.\n"
          ]
        },
        {
          "output_type": "stream",
          "name": "stdout",
          "text": [
            "INFO:tensorflow:Assets written to: model/assets\n"
          ]
        },
        {
          "output_type": "stream",
          "name": "stderr",
          "text": [
            "INFO:tensorflow:Assets written to: model/assets\n"
          ]
        }
      ]
    },
    {
      "cell_type": "code",
      "source": [
        "!zip -r hatedetectionmodel.zip model/"
      ],
      "metadata": {
        "colab": {
          "base_uri": "https://localhost:8080/"
        },
        "id": "w1FkLc3LdAWC",
        "outputId": "7295da7e-efe8-4a1b-db2b-8ed93d427222"
      },
      "execution_count": 111,
      "outputs": [
        {
          "output_type": "stream",
          "name": "stdout",
          "text": [
            "  adding: model/ (stored 0%)\n",
            "  adding: model/keras_metadata.pb (deflated 84%)\n",
            "  adding: model/assets/ (stored 0%)\n",
            "  adding: model/assets/vocab.txt (deflated 53%)\n",
            "  adding: model/variables/ (stored 0%)\n",
            "  adding: model/variables/variables.data-00000-of-00001 (deflated 8%)\n",
            "  adding: model/variables/variables.index (deflated 79%)\n",
            "  adding: model/saved_model.pb (deflated 92%)\n"
          ]
        }
      ]
    },
    {
      "cell_type": "markdown",
      "source": [
        "so i need to make a new notebook that will load the model, and apply it against a csv of tweets loaded up as a dataframe. see also https://stackoverflow.com/questions/62832159/how-to-save-full-tensorflow-model-from-google-colab for saving/loading a model"
      ],
      "metadata": {
        "id": "9rvGZua5diVL"
      }
    }
  ],
  "metadata": {
    "accelerator": "GPU",
    "colab": {
      "name": "text classifier for monique",
      "provenance": [],
      "collapsed_sections": [],
      "authorship_tag": "ABX9TyM8VDA41JOZa95N2I51o8uG",
      "include_colab_link": true
    },
    "kernelspec": {
      "display_name": "Python 3",
      "name": "python3"
    },
    "language_info": {
      "name": "python"
    }
  },
  "nbformat": 4,
  "nbformat_minor": 0
}